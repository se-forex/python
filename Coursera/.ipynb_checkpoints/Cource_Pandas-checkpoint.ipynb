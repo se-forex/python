{
 "cells": [
  {
   "cell_type": "code",
   "execution_count": 14,
   "metadata": {},
   "outputs": [
    {
     "name": "stdout",
     "output_type": "stream",
     "text": [
      "Какое количество мужчин и женщин ехало на корабле?\n",
      " male      577\n",
      "female    314\n",
      "Name: Sex, dtype: int64\n",
      "Какой части пассажиров удалось выжить? 38.38\n",
      "Какую долю пассажиры первого класса составляли среди всех пассажиров? 24.24\n",
      "count    714.000000\n",
      "mean      29.699118\n",
      "std       14.526497\n",
      "min        0.420000\n",
      "25%       20.125000\n",
      "50%       28.000000\n",
      "75%       38.000000\n",
      "max       80.000000\n",
      "Name: Age, dtype: float64\n",
      "Какого возраста были пассажиры? Посчитайте среднее и медиану возраста пассажиров. 14.5264973323 29.6991176471\n",
      "Корреляция Пирсона:  0.41483769862\n"
     ]
    },
    {
     "data": {
      "text/plain": [
       "PassengerId\n",
       "1                                Braund, Mr. Owen Harris\n",
       "2      Cumings, Mrs. John Bradley (Florence Briggs Th...\n",
       "3                                 Heikkinen, Miss. Laina\n",
       "4           Futrelle, Mrs. Jacques Heath (Lily May Peel)\n",
       "5                               Allen, Mr. William Henry\n",
       "6                                       Moran, Mr. James\n",
       "7                                McCarthy, Mr. Timothy J\n",
       "8                         Palsson, Master. Gosta Leonard\n",
       "9      Johnson, Mrs. Oscar W (Elisabeth Vilhelmina Berg)\n",
       "10                   Nasser, Mrs. Nicholas (Adele Achem)\n",
       "11                       Sandstrom, Miss. Marguerite Rut\n",
       "12                              Bonnell, Miss. Elizabeth\n",
       "13                        Saundercock, Mr. William Henry\n",
       "14                           Andersson, Mr. Anders Johan\n",
       "15                  Vestrom, Miss. Hulda Amanda Adolfina\n",
       "16                      Hewlett, Mrs. (Mary D Kingcome) \n",
       "17                                  Rice, Master. Eugene\n",
       "18                          Williams, Mr. Charles Eugene\n",
       "19     Vander Planke, Mrs. Julius (Emelia Maria Vande...\n",
       "20                               Masselmani, Mrs. Fatima\n",
       "21                                  Fynney, Mr. Joseph J\n",
       "22                                 Beesley, Mr. Lawrence\n",
       "23                           McGowan, Miss. Anna \"Annie\"\n",
       "24                          Sloper, Mr. William Thompson\n",
       "25                         Palsson, Miss. Torborg Danira\n",
       "26     Asplund, Mrs. Carl Oscar (Selma Augusta Emilia...\n",
       "27                               Emir, Mr. Farred Chehab\n",
       "28                        Fortune, Mr. Charles Alexander\n",
       "29                         O'Dwyer, Miss. Ellen \"Nellie\"\n",
       "30                                   Todoroff, Mr. Lalio\n",
       "                             ...                        \n",
       "71                            Jenkin, Mr. Stephen Curnow\n",
       "72                            Goodwin, Miss. Lillian Amy\n",
       "73                                  Hood, Mr. Ambrose Jr\n",
       "74                           Chronopoulos, Mr. Apostolos\n",
       "75                                         Bing, Mr. Lee\n",
       "76                               Moen, Mr. Sigurd Hansen\n",
       "77                                     Staneff, Mr. Ivan\n",
       "78                              Moutal, Mr. Rahamin Haim\n",
       "79                         Caldwell, Master. Alden Gates\n",
       "80                              Dowdell, Miss. Elizabeth\n",
       "81                                  Waelens, Mr. Achille\n",
       "82                           Sheerlinck, Mr. Jan Baptist\n",
       "83                        McDermott, Miss. Brigdet Delia\n",
       "84                               Carrau, Mr. Francisco M\n",
       "85                                   Ilett, Miss. Bertha\n",
       "86     Backstrom, Mrs. Karl Alfred (Maria Mathilda Gu...\n",
       "87                                Ford, Mr. William Neal\n",
       "88                         Slocovski, Mr. Selman Francis\n",
       "89                            Fortune, Miss. Mabel Helen\n",
       "90                                Celotti, Mr. Francesco\n",
       "91                                  Christmann, Mr. Emil\n",
       "92                            Andreasson, Mr. Paul Edvin\n",
       "93                           Chaffee, Mr. Herbert Fuller\n",
       "94                               Dean, Mr. Bertram Frank\n",
       "95                                     Coxon, Mr. Daniel\n",
       "96                           Shorney, Mr. Charles Joseph\n",
       "97                             Goldschmidt, Mr. George B\n",
       "98                       Greenfield, Mr. William Bertram\n",
       "99                  Doling, Mrs. John T (Ada Julia Bone)\n",
       "100                                    Kantor, Mr. Sinai\n",
       "Name: Name, Length: 100, dtype: object"
      ]
     },
     "execution_count": 14,
     "metadata": {},
     "output_type": "execute_result"
    }
   ],
   "source": [
    "import pandas\n",
    "import scipy as sp\n",
    "data = pandas.read_csv('titanic.csv', index_col='PassengerId')\n",
    "data.head()\n",
    "\n",
    "# 1. Какое количество мужчин и женщин ехало на корабле?\n",
    "sex = data['Sex'].value_counts()\n",
    "print(\"Какое количество мужчин и женщин ехало на корабле?\\n\", sex)\n",
    "\n",
    "# 2. Какой части пассажиров удалось выжить?\n",
    "sur = data['Survived'].value_counts()\n",
    "surf = 100 * 342 / (549 + 342)\n",
    "print(\"Какой части пассажиров удалось выжить?\", \"{0:0.2f}\".format(surf))\n",
    "\n",
    "# 3. Какую долю пассажиры первого класса составляли среди всех пассажиров?\n",
    "cl = data['Pclass'].value_counts()\n",
    "print(\"Какую долю пассажиры первого класса составляли среди всех пассажиров?\", \"{0:0.2f}\".format(100 * cl[1] / (cl[1] + cl[2] + cl[3])))\n",
    "\n",
    "# 4. Какого возраста были пассажиры? Посчитайте среднее и медиану возраста пассажиров.\n",
    "age = data['Age'].describe()\n",
    "print(age)\n",
    "print(\"Какого возраста были пассажиры? Посчитайте среднее и медиану возраста пассажиров.\", age['std'], age['mean'])\n",
    "\n",
    "# 5. Посчитайте корреляцию Пирсона между признаками SibSp и Parch.\n",
    "\n",
    "r,p = sp.stats.pearsonr(data['SibSp'], data['Parch'])\n",
    "\n",
    "print(\"Корреляция Пирсона: \", r)\n",
    "\n",
    "data.Name.head(100)"
   ]
  },
  {
   "cell_type": "code",
   "execution_count": null,
   "metadata": {
    "collapsed": true
   },
   "outputs": [],
   "source": []
  }
 ],
 "metadata": {
  "kernelspec": {
   "display_name": "Python 3",
   "language": "python",
   "name": "python3"
  },
  "language_info": {
   "codemirror_mode": {
    "name": "ipython",
    "version": 3
   },
   "file_extension": ".py",
   "mimetype": "text/x-python",
   "name": "python",
   "nbconvert_exporter": "python",
   "pygments_lexer": "ipython3",
   "version": "3.6.3"
  }
 },
 "nbformat": 4,
 "nbformat_minor": 2
}
