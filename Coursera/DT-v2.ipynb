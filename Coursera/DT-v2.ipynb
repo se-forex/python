{
 "cells": [
  {
   "cell_type": "code",
   "execution_count": 2,
   "metadata": {},
   "outputs": [
    {
     "name": "stdout",
     "output_type": "stream",
     "text": [
      "<class 'pandas.core.frame.DataFrame'>\n",
      "             Pclass     Fare   Age  SexStr  Survived  Sex\n",
      "PassengerId                                              \n",
      "1                 3   7.2500  22.0    male         0    1\n",
      "2                 1  71.2833  38.0  female         1    0\n",
      "3                 3   7.9250  26.0  female         1    0\n",
      "4                 1  53.1000  35.0  female         1    0\n",
      "5                 3   8.0500  35.0    male         0    1\n",
      "             Pclass     Fare   Age  Sex\n",
      "PassengerId                            \n",
      "1                 3   7.2500  22.0    1\n",
      "2                 1  71.2833  38.0    0\n",
      "3                 3   7.9250  26.0    0\n",
      "4                 1  53.1000  35.0    0\n",
      "5                 3   8.0500  35.0    1\n",
      "Feature importances:\n",
      "[ 0.14000522  0.30343647  0.2560461   0.30051221]\n",
      "2 most feature importances:\n",
      "[('Fare', 0.30343646953145248), ('Sex', 0.30051221095823943)]\n"
     ]
    }
   ],
   "source": [
    "import pandas as pd\n",
    "import scipy as sp\n",
    "import numpy as np\n",
    "from sklearn.tree import DecisionTreeClassifier\n",
    "\n",
    "# from sklearn.externals.six import StringIO  \n",
    "# from IPython.display import Image  \n",
    "# from sklearn.tree import export_graphviz\n",
    "# import pydotplus\n",
    "\n",
    "data = pd.read_csv('titanic.csv', index_col='PassengerId')\n",
    "\n",
    "print(type(data))\n",
    "\n",
    "dt = data[['Pclass', 'Fare', 'Age', 'Sex', 'Survived']].dropna()\n",
    "dt.rename(columns={'Sex':'SexStr'}, inplace=True)\n",
    "dt['Sex'] = dt['SexStr'].map(lambda x: 1 if x == 'male' else 0)\n",
    "print(dt.head())\n",
    "\n",
    "features = dt[['Pclass', 'Fare', 'Age', 'Sex']]\n",
    "print(features.head())\n",
    "result = dt[['Survived']]\n",
    "\n",
    "clf = DecisionTreeClassifier(random_state=241)\n",
    "clf.fit(features, result)\n",
    "\n",
    "featuresNames = features.keys().values\n",
    "featuresImp = clf.feature_importances_\n",
    "print('Feature importances:')\n",
    "print(featuresImp)\n",
    "\n",
    "fImpSorted = sorted(zip(featuresNames, featuresImp), key=lambda x: x[1], reverse=True)\n",
    "\n",
    "twoMostImportantFeatures = map(lambda x: x[0], fImpSorted[:2])\n",
    "\n",
    "print('2 most feature importances:')\n",
    "print(fImpSorted[:2])\n",
    "\n",
    "file = open('01-result.txt', 'w')\n",
    "print(' '.join(twoMostImportantFeatures), file=file, sep='', end='')\n",
    "file.close()\n",
    "\n",
    "# print tree\n",
    "# dot_data = StringIO()\n",
    "# export_graphviz(clf, out_file=dot_data, filled=True, rounded=True, special_characters=True)\n",
    "# graph = pydotplus.graph_from_dot_data(dot_data.getvalue())\n",
    "# Image(graph.create_png())"
   ]
  },
  {
   "cell_type": "code",
   "execution_count": null,
   "metadata": {
    "collapsed": true
   },
   "outputs": [],
   "source": []
  }
 ],
 "metadata": {
  "kernelspec": {
   "display_name": "Python 3",
   "language": "python",
   "name": "python3"
  },
  "language_info": {
   "codemirror_mode": {
    "name": "ipython",
    "version": 3
   },
   "file_extension": ".py",
   "mimetype": "text/x-python",
   "name": "python",
   "nbconvert_exporter": "python",
   "pygments_lexer": "ipython3",
   "version": "3.6.3"
  }
 },
 "nbformat": 4,
 "nbformat_minor": 2
}
