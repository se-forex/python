{
 "cells": [
  {
   "cell_type": "code",
   "execution_count": 1,
   "metadata": {},
   "outputs": [
    {
     "name": "stdout",
     "output_type": "stream",
     "text": [
      "[ 0.14000522  0.30343647  0.2560461   0.30051221]\n"
     ]
    }
   ],
   "source": [
    "import pandas as pd\n",
    "import scipy as sp\n",
    "import numpy as np\n",
    "from sklearn.tree import DecisionTreeClassifier\n",
    "\n",
    "data = pd.read_csv('titanic.csv', index_col='PassengerId')\n",
    "\n",
    "dt = pd.DataFrame(data=list(zip(data['Pclass'],data['Fare'],data['Age'],data['Sex'],data['Survived'])), columns=['Pclass','Fare','Age','Sex','Survived'])\n",
    "dnn = pd.DataFrame(data=dt.dropna(), columns=['Pclass','Fare','Age','Sex','Survived'])\n",
    "\n",
    "dx = pd.DataFrame(data=list(zip(dnn['Pclass'],dnn['Fare'],dnn['Age'],dnn['Sex'])), columns=['Pclass','Fare','Age','Sex'])\n",
    "dy = pd.DataFrame(data=list(zip(dnn['Survived'])), columns=['Survived'])\n",
    "\n",
    "for i in range(len(dx.Sex)):\n",
    "    if dx.Sex[i] == \"male\":\n",
    "        dx.Sex.set_value(i,'1')\n",
    "    else:\n",
    "        dx.Sex.set_value(i,'0')\n",
    "\n",
    "# learn DT\n",
    "X = dx.as_matrix()\n",
    "Y = dy.as_matrix()\n",
    "\n",
    "\n",
    "clf = DecisionTreeClassifier(random_state=241)\n",
    "clf.fit(X.tolist(), Y.tolist())\n",
    "\n",
    "# print(X.tolist().keys().values)\n",
    "print(clf.feature_importances_)\n"
   ]
  },
  {
   "cell_type": "code",
   "execution_count": null,
   "metadata": {
    "collapsed": true
   },
   "outputs": [],
   "source": []
  }
 ],
 "metadata": {
  "kernelspec": {
   "display_name": "Python 3",
   "language": "python",
   "name": "python3"
  },
  "language_info": {
   "codemirror_mode": {
    "name": "ipython",
    "version": 3
   },
   "file_extension": ".py",
   "mimetype": "text/x-python",
   "name": "python",
   "nbconvert_exporter": "python",
   "pygments_lexer": "ipython3",
   "version": "3.6.3"
  }
 },
 "nbformat": 4,
 "nbformat_minor": 2
}
