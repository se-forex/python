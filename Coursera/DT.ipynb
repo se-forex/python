{
 "cells": [
  {
   "cell_type": "code",
   "execution_count": 137,
   "metadata": {},
   "outputs": [
    {
     "name": "stdout",
     "output_type": "stream",
     "text": [
      "DecisionTreeClassifier(class_weight=None, criterion='gini', max_depth=None,\n",
      "            max_features=None, max_leaf_nodes=None,\n",
      "            min_impurity_decrease=0.0, min_impurity_split=None,\n",
      "            min_samples_leaf=1, min_samples_split=2,\n",
      "            min_weight_fraction_leaf=0.0, presort=False, random_state=None,\n",
      "            splitter='best')\n"
     ]
    }
   ],
   "source": [
    "import pandas as pd\n",
    "import scipy as sp\n",
    "import numpy as np\n",
    "import sklearn as sl\n",
    "\n",
    "data = pd.read_csv('titanic.csv', index_col='PassengerId')\n",
    "data.head()\n",
    "\n",
    "dt = pd.DataFrame(data=list(zip(data['Pclass'],data['Fare'],data['Age'],data['Sex'],data['Survived'])), columns=['Pclass','Fare','Age','Sex','Survived'])\n",
    "dnn = pd.DataFrame(data=dt.dropna(), columns=['Pclass','Fare','Age','Sex','Survived'])\n",
    "\n",
    "dx = pd.DataFrame(data=list(zip(dnn['Pclass'],dnn['Fare'],dnn['Age'],dnn['Sex'])), columns=['Pclass','Fare','Age','Sex'])\n",
    "dy = pd.DataFrame(data=list(zip(dnn['Survived'])), columns=['Survived'])\n",
    "\n",
    "for i in range(len(dx.Sex)):\n",
    "    if dx.Sex[i] == \"male\":\n",
    "        dx.Sex.set_value(i,'1')\n",
    "    else:\n",
    "        dx.Sex.set_value(i,'0')\n",
    "\n",
    "# learn DT\n",
    "X = dx.as_matrix()\n",
    "Y = dy.as_matrix()\n",
    "         \n",
    "clf = sl.tree.DecisionTreeClassifier()\n",
    "clf.fit(X.tolist(), Y.tolist())\n",
    "\n",
    "print(clf)\n"
   ]
  },
  {
   "cell_type": "code",
   "execution_count": null,
   "metadata": {
    "collapsed": true
   },
   "outputs": [],
   "source": []
  }
 ],
 "metadata": {
  "kernelspec": {
   "display_name": "Python 3",
   "language": "python",
   "name": "python3"
  },
  "language_info": {
   "codemirror_mode": {
    "name": "ipython",
    "version": 3
   },
   "file_extension": ".py",
   "mimetype": "text/x-python",
   "name": "python",
   "nbconvert_exporter": "python",
   "pygments_lexer": "ipython3",
   "version": "3.6.3"
  }
 },
 "nbformat": 4,
 "nbformat_minor": 2
}
