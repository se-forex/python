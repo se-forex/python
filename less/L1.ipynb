{
 "cells": [
  {
   "cell_type": "code",
   "execution_count": 35,
   "metadata": {},
   "outputs": [
    {
     "name": "stdout",
     "output_type": "stream",
     "text": [
      "     Names   BD\n",
      "0      Bob  968\n",
      "1  Jessica  155\n",
      "2     Mary   77\n",
      "3     John  578\n",
      "4      Mel  973\n",
      "_______________\n",
      "Names    object\n",
      "BD        int64\n",
      "dtype: object\n",
      "_______________\n",
      "     Names   BD\n",
      "4      Mel  973\n",
      "0      Bob  968\n",
      "3     John  578\n",
      "1  Jessica  155\n",
      "2     Mary   77\n",
      "['Mel973 - Mel']\n"
     ]
    },
    {
     "data": {
      "text/plain": [
       "Text(1,973,\"['973 - Mel']\")"
      ]
     },
     "execution_count": 35,
     "metadata": {},
     "output_type": "execute_result"
    },
    {
     "data": {
      "image/png": "[encoded data removed]",
      "text/plain": [
       "<matplotlib.figure.Figure at 0x7f423a8405c0>"
      ]
     },
     "metadata": {},
     "output_type": "display_data"
    }
   ],
   "source": [
    "import pandas as pd\n",
    "import matplotlib.pyplot as plt\n",
    "import matplotlib\n",
    "\n",
    "%matplotlib inline\n",
    "\n",
    "#Данные\n",
    "\n",
    "names = ['Bob','Jessica','Mary','John','Mel']\n",
    "births = [968, 155, 77, 578, 973]\n",
    "BabyDataSet = list(zip(names,births))\n",
    "\n",
    "df = pd.DataFrame(data = BabyDataSet, columns=['Names','BD'])\n",
    "print(df)\n",
    "print('_______________')\n",
    "print(df.dtypes)\n",
    "print('_______________')\n",
    "\n",
    "sort = df.sort_values(['BD'], ascending=False)\n",
    "print(sort.head())\n",
    "\n",
    "MaxName = df['Names'][df['BD'] == df['BD'].max()].values\n",
    "\n",
    "Text = str(df.BD.max()) + \" - \" + MaxName\n",
    "\n",
    "print(MaxName + Text)\n",
    "\n",
    "df['BD'].plot()\n",
    "plt.annotate(Text, xy=(1, df.BD.max()))\n",
    "\n",
    "\n"
   ]
  },
  {
   "cell_type": "code",
   "execution_count": null,
   "metadata": {
    "collapsed": true
   },
   "outputs": [],
   "source": []
  }
 ],
 "metadata": {
  "kernelspec": {
   "display_name": "Python 3",
   "language": "python",
   "name": "python3"
  },
  "language_info": {
   "codemirror_mode": {
    "name": "ipython",
    "version": 3
   },
   "file_extension": ".py",
   "mimetype": "text/x-python",
   "name": "python",
   "nbconvert_exporter": "python",
   "pygments_lexer": "ipython3",
   "version": "3.6.3"
  }
 },
 "nbformat": 4,
 "nbformat_minor": 2
}
