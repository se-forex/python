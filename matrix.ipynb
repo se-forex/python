{
 "cells": [
  {
   "cell_type": "markdown",
   "metadata": {},
   "source": [
    "## Операции над матрицами\n",
    "\n",
    "#### Генерация случайной матрицы\n",
    "\n",
    "X = np.random.normal(loc=L, scale=S, size=(row, column))\n",
    "\n",
    "- L - Mean (“centre”) of the distribution (среднее нормального распределения)\n",
    "- S - Standard deviation (spread or “width”) of the distribution (стандартное отклонение нормального распределения)\n",
    "\n",
    "\n",
    "#### Нормировка матрицы\n",
    "\n",
    "Вычитание из каждого столбца его среднего значения, а затем деление на его стандартное отклонение:\n",
    "\n",
    "X_norm = ((X - m) / std)\n",
    "\n",
    "Среднее значение - np.mean\n",
    "\n",
    "m = np.mean(X, axis=0), axis указывает, по какому измерению вычисляются среднее и стандартное отклонение                          (если axis=0, то по столбцам, если axis=1, то по строкам; если его не указывать, то данные величины будут вычислены по всей матрице)\n",
    "\n",
    "Стандартное отклонение - np.std\n",
    "\n",
    "std = np.std(X, axis=0)\n"
   ]
  }
 ],
 "metadata": {
  "kernelspec": {
   "display_name": "Python 2",
   "language": "python",
   "name": "python2"
  },
  "language_info": {
   "codemirror_mode": {
    "name": "ipython",
    "version": 2
   },
   "file_extension": ".py",
   "mimetype": "text/x-python",
   "name": "python",
   "nbconvert_exporter": "python",
   "pygments_lexer": "ipython2",
   "version": "2.7.10"
  }
 },
 "nbformat": 4,
 "nbformat_minor": 2
}
